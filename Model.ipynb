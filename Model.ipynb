{
 "cells": [
  {
   "cell_type": "markdown",
   "execution_count": null,
   "metadata": {
    "papermill": {
     "duration": 0.008611,
     "end_time": "2020-08-21T10:29:37.453584",
     "exception": false,
     "start_time": "2020-08-21T10:29:37.444973",
     "status": "completed"
    },
    "tags": []
   },
   "source": [
    "### Things that worked for me:\n",
    "* One hot encoding categorical columns\n",
    "* Remove skewness from ['Demand', 'High_Cap_Price'] columns and target column too.\n",
    "* Normalize numerical columns ['Demand', 'High_Cap_Price']\n",
    "* Ensembling various regression models\n",
    "* Datetime format taken into use: broken down to 3 columns namely ['dates','month','year'] but used only 'year' column for training.\n",
    "\n",
    "### Things that didn't work:\n",
    "* Pseudo labeling with ensembling\n",
    "* LabelEncoding"
   ]
  },
  {
   "cell_type": "code",
   "execution_count": 1,
   "metadata": {
    "_cell_guid": "b1076dfc-b9ad-4769-8c92-a6c4dae69d19",
    "_kg_hide-input": true,
    "_kg_hide-output": true,
    "_uuid": "8f2839f25d086af736a60e9eeb907d3b93b6e0e5",
    "execution": {
     "iopub.execute_input": "2020-08-21T10:29:37.474712Z",
     "iopub.status.busy": "2020-08-21T10:29:37.473987Z",
     "iopub.status.idle": "2020-08-21T10:29:38.603584Z",
     "shell.execute_reply": "2020-08-21T10:29:38.602859Z"
    },
    "papermill": {
     "duration": 1.143125,
     "end_time": "2020-08-21T10:29:38.603720",
     "exception": false,
     "start_time": "2020-08-21T10:29:37.460595",
     "status": "completed"
    },
    "tags": []
   },
   "outputs": [
    {
     "name": "stdout",
     "output_type": "stream",
     "text": [
      "/kaggle/input/hackerearth-ml-slashing-prices-for-biggest-sale/sample_submission.csv\n",
      "/kaggle/input/hackerearth-ml-slashing-prices-for-biggest-sale/Test.csv\n",
      "/kaggle/input/hackerearth-ml-slashing-prices-for-biggest-sale/Train.csv\n"
     ]
    }
   ],
   "source": [
    "# This Python 3 environment comes with many helpful analytics libraries installed\n",
    "# It is defined by the kaggle/python Docker image: https://github.com/kaggle/docker-python\n",
    "# For example, here's several helpful packages to load\n",
    "\n",
    "import numpy as np # linear algebra\n",
    "import pandas as pd # data processing, CSV file I/O (e.g. pd.read_csv)\n",
    "import seaborn as sns\n",
    "# Input data files are available in the read-only \"../input/\" directory\n",
    "# For example, running this (by clicking run or pressing Shift+Enter) will list all files under the input directory\n",
    "\n",
    "import os\n",
    "for dirname, _, filenames in os.walk('/kaggle/input'):\n",
    "    for filename in filenames:\n",
    "        print(os.path.join(dirname, filename))\n",
    "\n",
    "# You can write up to 5GB to the current directory (/kaggle/working/) that gets preserved as output when you create a version using \"Save & Run All\" \n",
    "# You can also write temporary files to /kaggle/temp/, but they won't be saved outside of the current session"
   ]
  },
  {
   "cell_type": "markdown",
   "execution_count": null,
   "metadata": {
    "papermill": {
     "duration": 0.006384,
     "end_time": "2020-08-21T10:29:38.617199",
     "exception": false,
     "start_time": "2020-08-21T10:29:38.610815",
     "status": "completed"
    },
    "tags": []
   },
   "source": [
    "![](https://image.freepik.com/free-vector/summer-sale-background-with-beach_23-2147820808.jpg)"
   ]
  },
  {
   "cell_type": "markdown",
   "execution_count": null,
   "metadata": {
    "papermill": {
     "duration": 0.007016,
     "end_time": "2020-08-21T10:29:38.631213",
     "exception": false,
     "start_time": "2020-08-21T10:29:38.624197",
     "status": "completed"
    },
    "tags": []
   },
   "source": [
    "## About the Dataset:\n",
    "[Hacker_Earth_Challenge](https://www.hackerearth.com/challenges/competitive/hackerearth-machine-learning-challenge-predict-the-lowest-price/)\n",
    "\n",
    "The dataset consists of various parameters such as a unique item ID, category of the market to which a product belongs, category and quality of the product, its demand rate, and its original market price.\n",
    "\n",
    "We are supposed to build a predictive model that determines the lowest price at which a good can be sold on the day of sale."
   ]
  },
  {
   "cell_type": "code",
   "execution_count": 2,
   "metadata": {
    "_cell_guid": "79c7e3d0-c299-4dcb-8224-4455121ee9b0",
    "_uuid": "d629ff2d2480ee46fbb7e2d37f6b5fab8052498a",
    "execution": {
     "iopub.execute_input": "2020-08-21T10:29:38.653419Z",
     "iopub.status.busy": "2020-08-21T10:29:38.652387Z",
     "iopub.status.idle": "2020-08-21T10:29:38.712664Z",
     "shell.execute_reply": "2020-08-21T10:29:38.712065Z"
    },
    "papermill": {
     "duration": 0.073257,
     "end_time": "2020-08-21T10:29:38.712786",
     "exception": false,
     "start_time": "2020-08-21T10:29:38.639529",
     "status": "completed"
    },
    "tags": []
   },
   "outputs": [],
   "source": [
    "train_df = pd.read_csv('../input/hackerearth-ml-slashing-prices-for-biggest-sale/Train.csv')\n",
    "test_df = pd.read_csv('../input/hackerearth-ml-slashing-prices-for-biggest-sale/Test.csv')\n",
    "sample = pd.read_csv('../input/hackerearth-ml-slashing-prices-for-biggest-sale/sample_submission.csv')"
   ]
  },
  {
   "cell_type": "code",
   "execution_count": 3,
   "metadata": {
    "execution": {
     "iopub.execute_input": "2020-08-21T10:29:38.740394Z",
     "iopub.status.busy": "2020-08-21T10:29:38.739643Z",
     "iopub.status.idle": "2020-08-21T10:29:38.749372Z",
     "shell.execute_reply": "2020-08-21T10:29:38.748723Z"
    },
    "papermill": {
     "duration": 0.029696,
     "end_time": "2020-08-21T10:29:38.749494",
     "exception": false,
     "start_time": "2020-08-21T10:29:38.719798",
     "status": "completed"
    },
    "tags": []
   },
   "outputs": [
    {
     "data": {
      "text/html": [
       "<div>\n",
       "<style scoped>\n",
       "    .dataframe tbody tr th:only-of-type {\n",
       "        vertical-align: middle;\n",
       "    }\n",
       "\n",
       "    .dataframe tbody tr th {\n",
       "        vertical-align: top;\n",
       "    }\n",
       "\n",
       "    .dataframe thead th {\n",
       "        text-align: right;\n",
       "    }\n",
       "</style>\n",
       "<table border=\"1\" class=\"dataframe\">\n",
       "  <thead>\n",
       "    <tr style=\"text-align: right;\">\n",
       "      <th></th>\n",
       "      <th>Item_Id</th>\n",
       "      <th>Date</th>\n",
       "      <th>State_of_Country</th>\n",
       "      <th>Market_Category</th>\n",
       "      <th>Product_Category</th>\n",
       "      <th>Grade</th>\n",
       "      <th>Demand</th>\n",
       "      <th>Low_Cap_Price</th>\n",
       "      <th>High_Cap_Price</th>\n",
       "    </tr>\n",
       "  </thead>\n",
       "  <tbody>\n",
       "    <tr>\n",
       "      <th>0</th>\n",
       "      <td>IT_1</td>\n",
       "      <td>2007-07-05</td>\n",
       "      <td>0</td>\n",
       "      <td>0</td>\n",
       "      <td>0</td>\n",
       "      <td>0</td>\n",
       "      <td>0.5</td>\n",
       "      <td>2785</td>\n",
       "      <td>4240</td>\n",
       "    </tr>\n",
       "    <tr>\n",
       "      <th>1</th>\n",
       "      <td>IT_2</td>\n",
       "      <td>2007-07-05</td>\n",
       "      <td>0</td>\n",
       "      <td>1</td>\n",
       "      <td>0</td>\n",
       "      <td>0</td>\n",
       "      <td>0.7</td>\n",
       "      <td>3574</td>\n",
       "      <td>4756</td>\n",
       "    </tr>\n",
       "    <tr>\n",
       "      <th>2</th>\n",
       "      <td>IT_3</td>\n",
       "      <td>2007-07-05</td>\n",
       "      <td>0</td>\n",
       "      <td>103</td>\n",
       "      <td>0</td>\n",
       "      <td>1</td>\n",
       "      <td>1.6</td>\n",
       "      <td>5978</td>\n",
       "      <td>9669</td>\n",
       "    </tr>\n",
       "    <tr>\n",
       "      <th>3</th>\n",
       "      <td>IT_4</td>\n",
       "      <td>2007-07-05</td>\n",
       "      <td>0</td>\n",
       "      <td>103</td>\n",
       "      <td>0</td>\n",
       "      <td>0</td>\n",
       "      <td>0.0</td>\n",
       "      <td>5681</td>\n",
       "      <td>8313</td>\n",
       "    </tr>\n",
       "    <tr>\n",
       "      <th>4</th>\n",
       "      <td>IT_5</td>\n",
       "      <td>2007-07-05</td>\n",
       "      <td>0</td>\n",
       "      <td>103</td>\n",
       "      <td>0</td>\n",
       "      <td>2</td>\n",
       "      <td>0.0</td>\n",
       "      <td>4924</td>\n",
       "      <td>7257</td>\n",
       "    </tr>\n",
       "  </tbody>\n",
       "</table>\n",
       "</div>"
      ],
      "text/plain": [
       "  Item_Id        Date  State_of_Country  Market_Category  Product_Category  \\\n",
       "0    IT_1  2007-07-05                 0                0                 0   \n",
       "1    IT_2  2007-07-05                 0                1                 0   \n",
       "2    IT_3  2007-07-05                 0              103                 0   \n",
       "3    IT_4  2007-07-05                 0              103                 0   \n",
       "4    IT_5  2007-07-05                 0              103                 0   \n",
       "\n",
       "   Grade  Demand  Low_Cap_Price  High_Cap_Price  \n",
       "0      0     0.5           2785            4240  \n",
       "1      0     0.7           3574            4756  \n",
       "2      1     1.6           5978            9669  \n",
       "3      0     0.0           5681            8313  \n",
       "4      2     0.0           4924            7257  "
      ]
     },
     "execution_count": 3,
     "metadata": {},
     "output_type": "execute_result"
    }
   ],
   "source": [
    "train_df.head()"
   ]
  },
  {
   "cell_type": "markdown",
   "execution_count": null,
   "metadata": {
    "papermill": {
     "duration": 0.010147,
     "end_time": "2020-08-21T10:29:38.767730",
     "exception": false,
     "start_time": "2020-08-21T10:29:38.757583",
     "status": "completed"
    },
    "tags": []
   },
   "source": [
    "### Checking target skewness"
   ]
  },
  {
   "cell_type": "code",
   "execution_count": 4,
   "metadata": {
    "execution": {
     "iopub.execute_input": "2020-08-21T10:29:38.796498Z",
     "iopub.status.busy": "2020-08-21T10:29:38.795758Z",
     "iopub.status.idle": "2020-08-21T10:29:39.121869Z",
     "shell.execute_reply": "2020-08-21T10:29:39.122531Z"
    },
    "papermill": {
     "duration": 0.344518,
     "end_time": "2020-08-21T10:29:39.122694",
     "exception": false,
     "start_time": "2020-08-21T10:29:38.778176",
     "status": "completed"
    },
    "tags": []
   },
   "outputs": [
    {
     "name": "stdout",
     "output_type": "stream",
     "text": [
      "mu 3500.2735252092266, sigma 2187.9351419173813\n"
     ]
    },
    {
     "data": {
      "image/png": "[encoded data removed]",
      "text/plain": [
       "<Figure size 432x288 with 1 Axes>"
      ]
     },
     "metadata": {
      "needs_background": "light"
     },
     "output_type": "display_data"
    }
   ],
   "source": [
    "from scipy.stats import norm\n",
    "sns.distplot(train_df[\"Low_Cap_Price\"],fit=norm)\n",
    "mu,sigma= norm.fit(train_df['Low_Cap_Price'])\n",
    "print(\"mu {}, sigma {}\".format(mu,sigma))"
   ]
  },
  {
   "cell_type": "code",
   "execution_count": 5,
   "metadata": {
    "execution": {
     "iopub.execute_input": "2020-08-21T10:29:39.149866Z",
     "iopub.status.busy": "2020-08-21T10:29:39.142854Z",
     "iopub.status.idle": "2020-08-21T10:29:39.378043Z",
     "shell.execute_reply": "2020-08-21T10:29:39.377454Z"
    },
    "papermill": {
     "duration": 0.247938,
     "end_time": "2020-08-21T10:29:39.378158",
     "exception": false,
     "start_time": "2020-08-21T10:29:39.130220",
     "status": "completed"
    },
    "tags": []
   },
   "outputs": [
    {
     "name": "stdout",
     "output_type": "stream",
     "text": [
      "mu 7.94147534144671, sigma 0.7232791338493658\n"
     ]
    },
    {
     "data": {
      "image/png": "[encoded data removed]",
      "text/plain": [
       "<Figure size 432x288 with 1 Axes>"
      ]
     },
     "metadata": {
      "needs_background": "light"
     },
     "output_type": "display_data"
    }
   ],
   "source": [
    "# Removing skewness\n",
    "########## REMOVING SKEWEENESS ###########\n",
    "train_df['Low_Cap_Price']=np.log1p(train_df['Low_Cap_Price'])\n",
    "sns.distplot(train_df['Low_Cap_Price'],fit=norm)\n",
    "mu,sigma= norm.fit(train_df['Low_Cap_Price'])\n",
    "print(\"mu {}, sigma {}\".format(mu,sigma))"
   ]
  },
  {
   "cell_type": "code",
   "execution_count": 6,
   "metadata": {
    "execution": {
     "iopub.execute_input": "2020-08-21T10:29:39.402509Z",
     "iopub.status.busy": "2020-08-21T10:29:39.400822Z",
     "iopub.status.idle": "2020-08-21T10:29:39.403711Z",
     "shell.execute_reply": "2020-08-21T10:29:39.404440Z"
    },
    "papermill": {
     "duration": 0.018279,
     "end_time": "2020-08-21T10:29:39.404653",
     "exception": false,
     "start_time": "2020-08-21T10:29:39.386374",
     "status": "completed"
    },
    "tags": []
   },
   "outputs": [],
   "source": [
    "test_df['Low_Cap_Price'] = -1"
   ]
  },
  {
   "cell_type": "markdown",
   "execution_count": null,
   "metadata": {
    "papermill": {
     "duration": 0.010269,
     "end_time": "2020-08-21T10:29:39.426312",
     "exception": false,
     "start_time": "2020-08-21T10:29:39.416043",
     "status": "completed"
    },
    "tags": []
   },
   "source": [
    "### Merging test with train to do one hot encoding at once"
   ]
  },
  {
   "cell_type": "code",
   "execution_count": 7,
   "metadata": {
    "execution": {
     "iopub.execute_input": "2020-08-21T10:29:39.460216Z",
     "iopub.status.busy": "2020-08-21T10:29:39.459552Z",
     "iopub.status.idle": "2020-08-21T10:29:39.538728Z",
     "shell.execute_reply": "2020-08-21T10:29:39.539231Z"
    },
    "papermill": {
     "duration": 0.102174,
     "end_time": "2020-08-21T10:29:39.539407",
     "exception": false,
     "start_time": "2020-08-21T10:29:39.437233",
     "status": "completed"
    },
    "tags": []
   },
   "outputs": [
    {
     "name": "stderr",
     "output_type": "stream",
     "text": [
      "/opt/conda/lib/python3.7/site-packages/pandas/core/reshape/merge.py:1097: UserWarning: You are merging on int and float columns where the float values are not equal to their int representation\n",
      "  UserWarning,\n"
     ]
    },
    {
     "data": {
      "text/html": [
       "<div>\n",
       "<style scoped>\n",
       "    .dataframe tbody tr th:only-of-type {\n",
       "        vertical-align: middle;\n",
       "    }\n",
       "\n",
       "    .dataframe tbody tr th {\n",
       "        vertical-align: top;\n",
       "    }\n",
       "\n",
       "    .dataframe thead th {\n",
       "        text-align: right;\n",
       "    }\n",
       "</style>\n",
       "<table border=\"1\" class=\"dataframe\">\n",
       "  <thead>\n",
       "    <tr style=\"text-align: right;\">\n",
       "      <th></th>\n",
       "      <th>Item_Id</th>\n",
       "      <th>Date</th>\n",
       "      <th>State_of_Country</th>\n",
       "      <th>Market_Category</th>\n",
       "      <th>Product_Category</th>\n",
       "      <th>Grade</th>\n",
       "      <th>Demand</th>\n",
       "      <th>Low_Cap_Price</th>\n",
       "      <th>High_Cap_Price</th>\n",
       "    </tr>\n",
       "  </thead>\n",
       "  <tbody>\n",
       "    <tr>\n",
       "      <th>0</th>\n",
       "      <td>IT_1</td>\n",
       "      <td>2007-07-05</td>\n",
       "      <td>0</td>\n",
       "      <td>0</td>\n",
       "      <td>0</td>\n",
       "      <td>0</td>\n",
       "      <td>0.5</td>\n",
       "      <td>7.932362</td>\n",
       "      <td>4240</td>\n",
       "    </tr>\n",
       "    <tr>\n",
       "      <th>1</th>\n",
       "      <td>IT_2</td>\n",
       "      <td>2007-07-05</td>\n",
       "      <td>0</td>\n",
       "      <td>1</td>\n",
       "      <td>0</td>\n",
       "      <td>0</td>\n",
       "      <td>0.7</td>\n",
       "      <td>8.181720</td>\n",
       "      <td>4756</td>\n",
       "    </tr>\n",
       "    <tr>\n",
       "      <th>2</th>\n",
       "      <td>IT_3</td>\n",
       "      <td>2007-07-05</td>\n",
       "      <td>0</td>\n",
       "      <td>103</td>\n",
       "      <td>0</td>\n",
       "      <td>1</td>\n",
       "      <td>1.6</td>\n",
       "      <td>8.696009</td>\n",
       "      <td>9669</td>\n",
       "    </tr>\n",
       "    <tr>\n",
       "      <th>3</th>\n",
       "      <td>IT_4</td>\n",
       "      <td>2007-07-05</td>\n",
       "      <td>0</td>\n",
       "      <td>103</td>\n",
       "      <td>0</td>\n",
       "      <td>0</td>\n",
       "      <td>0.0</td>\n",
       "      <td>8.645059</td>\n",
       "      <td>8313</td>\n",
       "    </tr>\n",
       "    <tr>\n",
       "      <th>4</th>\n",
       "      <td>IT_5</td>\n",
       "      <td>2007-07-05</td>\n",
       "      <td>0</td>\n",
       "      <td>103</td>\n",
       "      <td>0</td>\n",
       "      <td>2</td>\n",
       "      <td>0.0</td>\n",
       "      <td>8.502080</td>\n",
       "      <td>7257</td>\n",
       "    </tr>\n",
       "  </tbody>\n",
       "</table>\n",
       "</div>"
      ],
      "text/plain": [
       "  Item_Id        Date  State_of_Country  Market_Category  Product_Category  \\\n",
       "0    IT_1  2007-07-05                 0                0                 0   \n",
       "1    IT_2  2007-07-05                 0                1                 0   \n",
       "2    IT_3  2007-07-05                 0              103                 0   \n",
       "3    IT_4  2007-07-05                 0              103                 0   \n",
       "4    IT_5  2007-07-05                 0              103                 0   \n",
       "\n",
       "   Grade  Demand  Low_Cap_Price  High_Cap_Price  \n",
       "0      0     0.5       7.932362            4240  \n",
       "1      0     0.7       8.181720            4756  \n",
       "2      1     1.6       8.696009            9669  \n",
       "3      0     0.0       8.645059            8313  \n",
       "4      2     0.0       8.502080            7257  "
      ]
     },
     "execution_count": 7,
     "metadata": {},
     "output_type": "execute_result"
    }
   ],
   "source": [
    "df = pd.merge(train_df, test_df, how='outer')\n",
    "df.head()"
   ]
  },
  {
   "cell_type": "code",
   "execution_count": 8,
   "metadata": {
    "execution": {
     "iopub.execute_input": "2020-08-21T10:29:39.561552Z",
     "iopub.status.busy": "2020-08-21T10:29:39.560866Z",
     "iopub.status.idle": "2020-08-21T10:29:39.567874Z",
     "shell.execute_reply": "2020-08-21T10:29:39.567211Z"
    },
    "papermill": {
     "duration": 0.020814,
     "end_time": "2020-08-21T10:29:39.567993",
     "exception": false,
     "start_time": "2020-08-21T10:29:39.547179",
     "status": "completed"
    },
    "tags": []
   },
   "outputs": [],
   "source": [
    "df['Date'] = pd.to_datetime(df['Date'])"
   ]
  },
  {
   "cell_type": "markdown",
   "execution_count": null,
   "metadata": {
    "papermill": {
     "duration": 0.007777,
     "end_time": "2020-08-21T10:29:39.583727",
     "exception": false,
     "start_time": "2020-08-21T10:29:39.575950",
     "status": "completed"
    },
    "tags": []
   },
   "source": [
    "### Extracting year information\n",
    "This step gave me a significant jump in LB"
   ]
  },
  {
   "cell_type": "code",
   "execution_count": 9,
   "metadata": {
    "execution": {
     "iopub.execute_input": "2020-08-21T10:29:39.604466Z",
     "iopub.status.busy": "2020-08-21T10:29:39.603816Z",
     "iopub.status.idle": "2020-08-21T10:29:39.609444Z",
     "shell.execute_reply": "2020-08-21T10:29:39.608766Z"
    },
    "papermill": {
     "duration": 0.017991,
     "end_time": "2020-08-21T10:29:39.609575",
     "exception": false,
     "start_time": "2020-08-21T10:29:39.591584",
     "status": "completed"
    },
    "tags": []
   },
   "outputs": [],
   "source": [
    "# df['month'] = df['Date'].dt.month\n",
    "df['year'] = df['Date'].dt.year\n",
    "# df['dates'] = df['Date'].dt.day"
   ]
  },
  {
   "cell_type": "code",
   "execution_count": 10,
   "metadata": {
    "execution": {
     "iopub.execute_input": "2020-08-21T10:29:39.631322Z",
     "iopub.status.busy": "2020-08-21T10:29:39.630688Z",
     "iopub.status.idle": "2020-08-21T10:29:39.637965Z",
     "shell.execute_reply": "2020-08-21T10:29:39.637191Z"
    },
    "papermill": {
     "duration": 0.020259,
     "end_time": "2020-08-21T10:29:39.638100",
     "exception": false,
     "start_time": "2020-08-21T10:29:39.617841",
     "status": "completed"
    },
    "tags": []
   },
   "outputs": [
    {
     "data": {
      "text/plain": [
       "-0.06244835688940031"
      ]
     },
     "execution_count": 10,
     "metadata": {},
     "output_type": "execute_result"
    }
   ],
   "source": [
    "df['State_of_Country'].corr(df['Low_Cap_Price'])"
   ]
  },
  {
   "cell_type": "markdown",
   "execution_count": null,
   "metadata": {
    "papermill": {
     "duration": 0.010317,
     "end_time": "2020-08-21T10:29:39.659219",
     "exception": false,
     "start_time": "2020-08-21T10:29:39.648902",
     "status": "completed"
    },
    "tags": []
   },
   "source": [
    "### Removing skewness form other numerical columns"
   ]
  },
  {
   "cell_type": "code",
   "execution_count": 11,
   "metadata": {
    "execution": {
     "iopub.execute_input": "2020-08-21T10:29:39.687969Z",
     "iopub.status.busy": "2020-08-21T10:29:39.687183Z",
     "iopub.status.idle": "2020-08-21T10:29:39.700538Z",
     "shell.execute_reply": "2020-08-21T10:29:39.699727Z"
    },
    "papermill": {
     "duration": 0.030258,
     "end_time": "2020-08-21T10:29:39.700686",
     "exception": false,
     "start_time": "2020-08-21T10:29:39.670428",
     "status": "completed"
    },
    "tags": []
   },
   "outputs": [
    {
     "data": {
      "text/plain": [
       "Demand             45.131583\n",
       "High_Cap_Price    124.737404\n",
       "dtype: float64"
      ]
     },
     "execution_count": 11,
     "metadata": {},
     "output_type": "execute_result"
    }
   ],
   "source": [
    "numeric_col = ['Demand','High_Cap_Price']\n",
    "skew=df[numeric_col].skew()\n",
    "skew"
   ]
  },
  {
   "cell_type": "code",
   "execution_count": 12,
   "metadata": {
    "execution": {
     "iopub.execute_input": "2020-08-21T10:29:39.724761Z",
     "iopub.status.busy": "2020-08-21T10:29:39.723957Z",
     "iopub.status.idle": "2020-08-21T10:29:39.728928Z",
     "shell.execute_reply": "2020-08-21T10:29:39.728159Z"
    },
    "papermill": {
     "duration": 0.018691,
     "end_time": "2020-08-21T10:29:39.729066",
     "exception": false,
     "start_time": "2020-08-21T10:29:39.710375",
     "status": "completed"
    },
    "tags": []
   },
   "outputs": [],
   "source": [
    "from scipy.special import boxcox1p\n",
    "lam=0.15\n",
    "for i in skew.index:\n",
    "    df[i]=np.log1p(df[i])"
   ]
  },
  {
   "cell_type": "markdown",
   "execution_count": null,
   "metadata": {
    "papermill": {
     "duration": 0.009998,
     "end_time": "2020-08-21T10:29:39.750029",
     "exception": false,
     "start_time": "2020-08-21T10:29:39.740031",
     "status": "completed"
    },
    "tags": []
   },
   "source": [
    "### One_Hot Encoding"
   ]
  },
  {
   "cell_type": "code",
   "execution_count": 13,
   "metadata": {
    "execution": {
     "iopub.execute_input": "2020-08-21T10:29:39.773896Z",
     "iopub.status.busy": "2020-08-21T10:29:39.773208Z",
     "iopub.status.idle": "2020-08-21T10:29:39.825904Z",
     "shell.execute_reply": "2020-08-21T10:29:39.825176Z"
    },
    "papermill": {
     "duration": 0.067454,
     "end_time": "2020-08-21T10:29:39.826026",
     "exception": false,
     "start_time": "2020-08-21T10:29:39.758572",
     "status": "completed"
    },
    "tags": []
   },
   "outputs": [],
   "source": [
    "# One Hot\n",
    "df = pd.get_dummies(df, columns=['State_of_Country','Market_Category','Product_Category','Grade','year'])\n",
    "# test_df = pd.get_dummies(test_df, columns=['State_of_Country','Market_Category','Product_Category','Grade'])"
   ]
  },
  {
   "cell_type": "code",
   "execution_count": 14,
   "metadata": {
    "execution": {
     "iopub.execute_input": "2020-08-21T10:29:39.849998Z",
     "iopub.status.busy": "2020-08-21T10:29:39.849183Z",
     "iopub.status.idle": "2020-08-21T10:29:39.880336Z",
     "shell.execute_reply": "2020-08-21T10:29:39.879645Z"
    },
    "papermill": {
     "duration": 0.046007,
     "end_time": "2020-08-21T10:29:39.880476",
     "exception": false,
     "start_time": "2020-08-21T10:29:39.834469",
     "status": "completed"
    },
    "tags": []
   },
   "outputs": [],
   "source": [
    "\n",
    "\n",
    "#Normalize Demand and High_Cap_Price\n",
    "df['Demand'] = (df['Demand'] - np.mean(df['Demand'])) / (np.max(df['Demand']) - np.min(df['Demand']))\n",
    "# test_df['Demand'] = (test_df['Demand'] - np.mean(test_df['Demand'])) / (np.max(test_df['Demand']) - np.min(test_df['Demand']))\n",
    "\n",
    "df['High_Cap_Price'] = (df['High_Cap_Price'] - np.mean(df['High_Cap_Price'])) / (np.max(df['High_Cap_Price']) - np.min(df['High_Cap_Price']))\n",
    "# test_df['High_Cap_Price'] = (test_df['High_Cap_Price'] - np.mean(test_df['High_Cap_Price'])) / (np.max(test_df['High_Cap_Price']) - np.min(test_df['High_Cap_Price']))"
   ]
  },
  {
   "cell_type": "markdown",
   "execution_count": null,
   "metadata": {
    "papermill": {
     "duration": 0.008132,
     "end_time": "2020-08-21T10:29:39.897284",
     "exception": false,
     "start_time": "2020-08-21T10:29:39.889152",
     "status": "completed"
    },
    "tags": []
   },
   "source": [
    "## Preparation for Ensembling various regression models"
   ]
  },
  {
   "cell_type": "code",
   "execution_count": 15,
   "metadata": {
    "execution": {
     "iopub.execute_input": "2020-08-21T10:29:39.921244Z",
     "iopub.status.busy": "2020-08-21T10:29:39.920611Z",
     "iopub.status.idle": "2020-08-21T10:29:41.061720Z",
     "shell.execute_reply": "2020-08-21T10:29:41.060979Z"
    },
    "papermill": {
     "duration": 1.156037,
     "end_time": "2020-08-21T10:29:41.061849",
     "exception": false,
     "start_time": "2020-08-21T10:29:39.905812",
     "status": "completed"
    },
    "tags": []
   },
   "outputs": [],
   "source": [
    "from sklearn.model_selection import cross_val_score\n",
    "from sklearn.model_selection import StratifiedKFold\n",
    "from xgboost import XGBClassifier, XGBRegressor\n",
    "from sklearn.metrics import roc_auc_score\n",
    "from sklearn.linear_model import ElasticNet, Lasso,  BayesianRidge, LassoLarsIC\n",
    "from sklearn.pipeline import make_pipeline\n",
    "from sklearn.preprocessing import RobustScaler\n",
    "from sklearn.pipeline import make_pipeline\n",
    "from sklearn.linear_model import ElasticNet,BayesianRidge\n",
    "from sklearn.preprocessing import RobustScaler"
   ]
  },
  {
   "cell_type": "code",
   "execution_count": 16,
   "metadata": {
    "execution": {
     "iopub.execute_input": "2020-08-21T10:29:41.097309Z",
     "iopub.status.busy": "2020-08-21T10:29:41.096400Z",
     "iopub.status.idle": "2020-08-21T10:29:41.102762Z",
     "shell.execute_reply": "2020-08-21T10:29:41.102118Z"
    },
    "papermill": {
     "duration": 0.031767,
     "end_time": "2020-08-21T10:29:41.102876",
     "exception": false,
     "start_time": "2020-08-21T10:29:41.071109",
     "status": "completed"
    },
    "tags": []
   },
   "outputs": [
    {
     "data": {
      "text/plain": [
       "['Demand',\n",
       " 'High_Cap_Price',\n",
       " 'State_of_Country_0',\n",
       " 'State_of_Country_1',\n",
       " 'State_of_Country_2',\n",
       " 'State_of_Country_3',\n",
       " 'State_of_Country_4',\n",
       " 'State_of_Country_5',\n",
       " 'State_of_Country_6',\n",
       " 'State_of_Country_7',\n",
       " 'State_of_Country_8',\n",
       " 'State_of_Country_9',\n",
       " 'State_of_Country_10',\n",
       " 'State_of_Country_11',\n",
       " 'State_of_Country_12',\n",
       " 'State_of_Country_13',\n",
       " 'State_of_Country_14',\n",
       " 'State_of_Country_15',\n",
       " 'State_of_Country_17',\n",
       " 'State_of_Country_18',\n",
       " 'State_of_Country_19',\n",
       " 'State_of_Country_20',\n",
       " 'State_of_Country_21',\n",
       " 'State_of_Country_22',\n",
       " 'State_of_Country_23',\n",
       " 'Market_Category_0',\n",
       " 'Market_Category_1',\n",
       " 'Market_Category_2',\n",
       " 'Market_Category_3',\n",
       " 'Market_Category_4',\n",
       " 'Market_Category_6',\n",
       " 'Market_Category_7',\n",
       " 'Market_Category_8',\n",
       " 'Market_Category_9',\n",
       " 'Market_Category_10',\n",
       " 'Market_Category_11',\n",
       " 'Market_Category_12',\n",
       " 'Market_Category_13',\n",
       " 'Market_Category_14',\n",
       " 'Market_Category_15',\n",
       " 'Market_Category_16',\n",
       " 'Market_Category_17',\n",
       " 'Market_Category_18',\n",
       " 'Market_Category_19',\n",
       " 'Market_Category_20',\n",
       " 'Market_Category_21',\n",
       " 'Market_Category_22',\n",
       " 'Market_Category_23',\n",
       " 'Market_Category_24',\n",
       " 'Market_Category_25',\n",
       " 'Market_Category_26',\n",
       " 'Market_Category_27',\n",
       " 'Market_Category_28',\n",
       " 'Market_Category_29',\n",
       " 'Market_Category_30',\n",
       " 'Market_Category_31',\n",
       " 'Market_Category_32',\n",
       " 'Market_Category_33',\n",
       " 'Market_Category_34',\n",
       " 'Market_Category_35',\n",
       " 'Market_Category_36',\n",
       " 'Market_Category_37',\n",
       " 'Market_Category_38',\n",
       " 'Market_Category_39',\n",
       " 'Market_Category_40',\n",
       " 'Market_Category_41',\n",
       " 'Market_Category_42',\n",
       " 'Market_Category_43',\n",
       " 'Market_Category_44',\n",
       " 'Market_Category_45',\n",
       " 'Market_Category_46',\n",
       " 'Market_Category_47',\n",
       " 'Market_Category_48',\n",
       " 'Market_Category_49',\n",
       " 'Market_Category_50',\n",
       " 'Market_Category_51',\n",
       " 'Market_Category_52',\n",
       " 'Market_Category_53',\n",
       " 'Market_Category_54',\n",
       " 'Market_Category_55',\n",
       " 'Market_Category_56',\n",
       " 'Market_Category_57',\n",
       " 'Market_Category_58',\n",
       " 'Market_Category_59',\n",
       " 'Market_Category_60',\n",
       " 'Market_Category_61',\n",
       " 'Market_Category_62',\n",
       " 'Market_Category_63',\n",
       " 'Market_Category_64',\n",
       " 'Market_Category_65',\n",
       " 'Market_Category_66',\n",
       " 'Market_Category_67',\n",
       " 'Market_Category_68',\n",
       " 'Market_Category_69',\n",
       " 'Market_Category_70',\n",
       " 'Market_Category_73',\n",
       " 'Market_Category_74',\n",
       " 'Market_Category_75',\n",
       " 'Market_Category_76',\n",
       " 'Market_Category_77',\n",
       " 'Market_Category_78',\n",
       " 'Market_Category_79',\n",
       " 'Market_Category_80',\n",
       " 'Market_Category_81',\n",
       " 'Market_Category_82',\n",
       " 'Market_Category_83',\n",
       " 'Market_Category_84',\n",
       " 'Market_Category_85',\n",
       " 'Market_Category_86',\n",
       " 'Market_Category_87',\n",
       " 'Market_Category_88',\n",
       " 'Market_Category_89',\n",
       " 'Market_Category_90',\n",
       " 'Market_Category_91',\n",
       " 'Market_Category_92',\n",
       " 'Market_Category_93',\n",
       " 'Market_Category_94',\n",
       " 'Market_Category_95',\n",
       " 'Market_Category_96',\n",
       " 'Market_Category_97',\n",
       " 'Market_Category_98',\n",
       " 'Market_Category_99',\n",
       " 'Market_Category_100',\n",
       " 'Market_Category_101',\n",
       " 'Market_Category_102',\n",
       " 'Market_Category_103',\n",
       " 'Market_Category_104',\n",
       " 'Market_Category_105',\n",
       " 'Market_Category_106',\n",
       " 'Market_Category_107',\n",
       " 'Market_Category_108',\n",
       " 'Market_Category_110',\n",
       " 'Market_Category_111',\n",
       " 'Market_Category_112',\n",
       " 'Market_Category_113',\n",
       " 'Market_Category_114',\n",
       " 'Market_Category_115',\n",
       " 'Market_Category_116',\n",
       " 'Market_Category_117',\n",
       " 'Market_Category_118',\n",
       " 'Market_Category_119',\n",
       " 'Market_Category_121',\n",
       " 'Market_Category_122',\n",
       " 'Market_Category_123',\n",
       " 'Market_Category_124',\n",
       " 'Market_Category_126',\n",
       " 'Market_Category_127',\n",
       " 'Market_Category_128',\n",
       " 'Market_Category_129',\n",
       " 'Market_Category_130',\n",
       " 'Market_Category_131',\n",
       " 'Market_Category_132',\n",
       " 'Market_Category_134',\n",
       " 'Market_Category_135',\n",
       " 'Market_Category_136',\n",
       " 'Market_Category_137',\n",
       " 'Market_Category_138',\n",
       " 'Market_Category_139',\n",
       " 'Market_Category_140',\n",
       " 'Market_Category_141',\n",
       " 'Market_Category_143',\n",
       " 'Market_Category_144',\n",
       " 'Market_Category_146',\n",
       " 'Market_Category_147',\n",
       " 'Market_Category_148',\n",
       " 'Market_Category_149',\n",
       " 'Market_Category_150',\n",
       " 'Market_Category_151',\n",
       " 'Market_Category_152',\n",
       " 'Market_Category_153',\n",
       " 'Market_Category_155',\n",
       " 'Market_Category_156',\n",
       " 'Market_Category_157',\n",
       " 'Market_Category_158',\n",
       " 'Market_Category_159',\n",
       " 'Market_Category_162',\n",
       " 'Market_Category_163',\n",
       " 'Market_Category_164',\n",
       " 'Market_Category_165',\n",
       " 'Market_Category_166',\n",
       " 'Market_Category_167',\n",
       " 'Market_Category_168',\n",
       " 'Market_Category_169',\n",
       " 'Market_Category_170',\n",
       " 'Market_Category_171',\n",
       " 'Market_Category_172',\n",
       " 'Market_Category_173',\n",
       " 'Market_Category_174',\n",
       " 'Market_Category_175',\n",
       " 'Market_Category_176',\n",
       " 'Market_Category_177',\n",
       " 'Market_Category_178',\n",
       " 'Market_Category_179',\n",
       " 'Market_Category_180',\n",
       " 'Market_Category_181',\n",
       " 'Market_Category_182',\n",
       " 'Market_Category_183',\n",
       " 'Market_Category_184',\n",
       " 'Market_Category_185',\n",
       " 'Market_Category_186',\n",
       " 'Market_Category_187',\n",
       " 'Market_Category_188',\n",
       " 'Market_Category_189',\n",
       " 'Market_Category_190',\n",
       " 'Market_Category_191',\n",
       " 'Market_Category_192',\n",
       " 'Market_Category_193',\n",
       " 'Market_Category_195',\n",
       " 'Market_Category_196',\n",
       " 'Market_Category_197',\n",
       " 'Market_Category_198',\n",
       " 'Market_Category_199',\n",
       " 'Market_Category_200',\n",
       " 'Market_Category_202',\n",
       " 'Market_Category_203',\n",
       " 'Market_Category_204',\n",
       " 'Market_Category_205',\n",
       " 'Market_Category_206',\n",
       " 'Market_Category_208',\n",
       " 'Market_Category_209',\n",
       " 'Market_Category_210',\n",
       " 'Market_Category_211',\n",
       " 'Market_Category_214',\n",
       " 'Market_Category_215',\n",
       " 'Market_Category_216',\n",
       " 'Market_Category_217',\n",
       " 'Market_Category_218',\n",
       " 'Market_Category_219',\n",
       " 'Market_Category_220',\n",
       " 'Market_Category_221',\n",
       " 'Market_Category_223',\n",
       " 'Market_Category_224',\n",
       " 'Market_Category_225',\n",
       " 'Market_Category_227',\n",
       " 'Market_Category_228',\n",
       " 'Market_Category_229',\n",
       " 'Market_Category_230',\n",
       " 'Market_Category_231',\n",
       " 'Market_Category_234',\n",
       " 'Market_Category_235',\n",
       " 'Market_Category_236',\n",
       " 'Market_Category_238',\n",
       " 'Market_Category_239',\n",
       " 'Market_Category_240',\n",
       " 'Market_Category_241',\n",
       " 'Market_Category_242',\n",
       " 'Market_Category_244',\n",
       " 'Market_Category_246',\n",
       " 'Market_Category_247',\n",
       " 'Market_Category_248',\n",
       " 'Market_Category_249',\n",
       " 'Market_Category_250',\n",
       " 'Market_Category_251',\n",
       " 'Market_Category_252',\n",
       " 'Market_Category_254',\n",
       " 'Market_Category_255',\n",
       " 'Market_Category_256',\n",
       " 'Market_Category_257',\n",
       " 'Market_Category_258',\n",
       " 'Market_Category_259',\n",
       " 'Market_Category_261',\n",
       " 'Market_Category_262',\n",
       " 'Market_Category_263',\n",
       " 'Market_Category_266',\n",
       " 'Market_Category_267',\n",
       " 'Market_Category_268',\n",
       " 'Market_Category_270',\n",
       " 'Market_Category_271',\n",
       " 'Market_Category_273',\n",
       " 'Market_Category_274',\n",
       " 'Market_Category_275',\n",
       " 'Market_Category_276',\n",
       " 'Market_Category_277',\n",
       " 'Market_Category_278',\n",
       " 'Market_Category_279',\n",
       " 'Market_Category_280',\n",
       " 'Market_Category_282',\n",
       " 'Market_Category_283',\n",
       " 'Market_Category_285',\n",
       " 'Market_Category_286',\n",
       " 'Market_Category_289',\n",
       " 'Market_Category_293',\n",
       " 'Market_Category_294',\n",
       " 'Market_Category_295',\n",
       " 'Market_Category_296',\n",
       " 'Market_Category_297',\n",
       " 'Market_Category_298',\n",
       " 'Market_Category_299',\n",
       " 'Market_Category_300',\n",
       " 'Market_Category_301',\n",
       " 'Market_Category_303',\n",
       " 'Market_Category_304',\n",
       " 'Market_Category_307',\n",
       " 'Market_Category_308',\n",
       " 'Market_Category_309',\n",
       " 'Market_Category_310',\n",
       " 'Market_Category_311',\n",
       " 'Market_Category_312',\n",
       " 'Market_Category_315',\n",
       " 'Market_Category_316',\n",
       " 'Market_Category_320',\n",
       " 'Market_Category_326',\n",
       " 'Market_Category_327',\n",
       " 'Market_Category_329',\n",
       " 'Market_Category_330',\n",
       " 'Market_Category_331',\n",
       " 'Market_Category_332',\n",
       " 'Market_Category_334',\n",
       " 'Market_Category_335',\n",
       " 'Market_Category_336',\n",
       " 'Market_Category_337',\n",
       " 'Market_Category_338',\n",
       " 'Market_Category_339',\n",
       " 'Market_Category_340',\n",
       " 'Market_Category_341',\n",
       " 'Market_Category_342',\n",
       " 'Market_Category_343',\n",
       " 'Market_Category_345',\n",
       " 'Market_Category_347',\n",
       " 'Market_Category_348',\n",
       " 'Market_Category_350',\n",
       " 'Market_Category_352',\n",
       " 'Market_Category_353',\n",
       " 'Market_Category_354',\n",
       " 'Market_Category_355',\n",
       " 'Market_Category_356',\n",
       " 'Market_Category_358',\n",
       " 'Market_Category_360',\n",
       " 'Market_Category_361',\n",
       " 'Market_Category_363',\n",
       " 'Market_Category_364',\n",
       " 'Market_Category_365',\n",
       " 'Market_Category_366',\n",
       " 'Market_Category_367',\n",
       " 'Market_Category_368',\n",
       " 'Market_Category_369',\n",
       " 'Market_Category_370',\n",
       " 'Market_Category_371',\n",
       " 'Market_Category_372',\n",
       " 'Market_Category_373',\n",
       " 'Market_Category_374',\n",
       " 'Market_Category_375',\n",
       " 'Market_Category_376',\n",
       " 'Market_Category_377',\n",
       " 'Market_Category_378',\n",
       " 'Market_Category_379',\n",
       " 'Market_Category_383',\n",
       " 'Market_Category_384',\n",
       " 'Market_Category_385',\n",
       " 'Market_Category_386',\n",
       " 'Market_Category_389',\n",
       " 'Market_Category_391',\n",
       " 'Market_Category_392',\n",
       " 'Market_Category_394',\n",
       " 'Market_Category_395',\n",
       " 'Market_Category_396',\n",
       " 'Market_Category_397',\n",
       " 'Market_Category_399',\n",
       " 'Market_Category_400',\n",
       " 'Market_Category_401',\n",
       " 'Market_Category_403',\n",
       " 'Market_Category_407',\n",
       " 'Market_Category_416',\n",
       " 'Market_Category_423',\n",
       " 'Market_Category_430',\n",
       " 'Market_Category_436',\n",
       " 'Market_Category_437',\n",
       " 'Market_Category_441',\n",
       " 'Market_Category_442',\n",
       " 'Market_Category_443',\n",
       " 'Market_Category_444',\n",
       " 'Market_Category_445',\n",
       " 'Market_Category_446',\n",
       " 'Market_Category_447',\n",
       " 'Market_Category_448',\n",
       " 'Market_Category_449',\n",
       " 'Market_Category_450',\n",
       " 'Market_Category_451',\n",
       " 'Market_Category_452',\n",
       " 'Market_Category_453',\n",
       " 'Market_Category_454',\n",
       " 'Market_Category_455',\n",
       " 'Market_Category_456',\n",
       " 'Market_Category_457',\n",
       " 'Market_Category_458',\n",
       " 'Market_Category_459',\n",
       " 'Market_Category_460',\n",
       " 'Market_Category_461',\n",
       " 'Market_Category_462',\n",
       " 'Market_Category_463',\n",
       " 'Market_Category_464',\n",
       " 'Market_Category_465',\n",
       " 'Market_Category_466',\n",
       " 'Market_Category_467',\n",
       " 'Market_Category_468',\n",
       " 'Market_Category_469',\n",
       " 'Market_Category_470',\n",
       " 'Market_Category_471',\n",
       " 'Product_Category_0',\n",
       " 'Product_Category_1',\n",
       " 'Product_Category_2',\n",
       " 'Product_Category_3',\n",
       " 'Product_Category_4',\n",
       " 'Product_Category_5',\n",
       " 'Product_Category_6',\n",
       " 'Product_Category_7',\n",
       " 'Product_Category_8',\n",
       " 'Product_Category_9',\n",
       " 'Product_Category_10',\n",
       " 'Product_Category_11',\n",
       " 'Product_Category_12',\n",
       " 'Product_Category_13',\n",
       " 'Product_Category_14',\n",
       " 'Product_Category_15',\n",
       " 'Product_Category_16',\n",
       " 'Product_Category_17',\n",
       " 'Grade_0',\n",
       " 'Grade_1',\n",
       " 'Grade_2',\n",
       " 'Grade_3',\n",
       " 'year_2007',\n",
       " 'year_2008',\n",
       " 'year_2009',\n",
       " 'year_2010',\n",
       " 'year_2014',\n",
       " 'year_2015']"
      ]
     },
     "execution_count": 16,
     "metadata": {},
     "output_type": "execute_result"
    }
   ],
   "source": [
    "features = [c for c in df.columns if c not in ['Item_Id','Date','Low_Cap_Price']]\n",
    "features"
   ]
  },
  {
   "cell_type": "code",
   "execution_count": 17,
   "metadata": {
    "execution": {
     "iopub.execute_input": "2020-08-21T10:29:41.127423Z",
     "iopub.status.busy": "2020-08-21T10:29:41.126731Z",
     "iopub.status.idle": "2020-08-21T10:29:41.170238Z",
     "shell.execute_reply": "2020-08-21T10:29:41.170773Z"
    },
    "papermill": {
     "duration": 0.058762,
     "end_time": "2020-08-21T10:29:41.170958",
     "exception": false,
     "start_time": "2020-08-21T10:29:41.112196",
     "status": "completed"
    },
    "tags": []
   },
   "outputs": [],
   "source": [
    "train_df = df[df['Low_Cap_Price']!=-1]\n",
    "test_df = df[df['Low_Cap_Price']==-1]"
   ]
  },
  {
   "cell_type": "code",
   "execution_count": 18,
   "metadata": {
    "execution": {
     "iopub.execute_input": "2020-08-21T10:29:41.195155Z",
     "iopub.status.busy": "2020-08-21T10:29:41.194230Z",
     "iopub.status.idle": "2020-08-21T10:29:41.197912Z",
     "shell.execute_reply": "2020-08-21T10:29:41.197400Z"
    },
    "papermill": {
     "duration": 0.01798,
     "end_time": "2020-08-21T10:29:41.198033",
     "exception": false,
     "start_time": "2020-08-21T10:29:41.180053",
     "status": "completed"
    },
    "tags": []
   },
   "outputs": [
    {
     "name": "stdout",
     "output_type": "stream",
     "text": [
      "429\n",
      "429\n"
     ]
    }
   ],
   "source": [
    "print(len(train_df.columns))\n",
    "print(len(test_df.columns))"
   ]
  },
  {
   "cell_type": "code",
   "execution_count": 19,
   "metadata": {
    "execution": {
     "iopub.execute_input": "2020-08-21T10:29:41.222482Z",
     "iopub.status.busy": "2020-08-21T10:29:41.221771Z",
     "iopub.status.idle": "2020-08-21T10:29:41.241783Z",
     "shell.execute_reply": "2020-08-21T10:29:41.241180Z"
    },
    "papermill": {
     "duration": 0.03489,
     "end_time": "2020-08-21T10:29:41.241916",
     "exception": false,
     "start_time": "2020-08-21T10:29:41.207026",
     "status": "completed"
    },
    "tags": []
   },
   "outputs": [],
   "source": [
    "X = train_df[features]\n",
    "y = train_df['Low_Cap_Price']\n",
    "\n",
    "x_test = test_df[features]"
   ]
  },
  {
   "cell_type": "code",
   "execution_count": 20,
   "metadata": {
    "execution": {
     "iopub.execute_input": "2020-08-21T10:29:41.274553Z",
     "iopub.status.busy": "2020-08-21T10:29:41.273856Z",
     "iopub.status.idle": "2020-08-21T10:31:52.300316Z",
     "shell.execute_reply": "2020-08-21T10:31:52.299499Z"
    },
    "papermill": {
     "duration": 131.048959,
     "end_time": "2020-08-21T10:31:52.300473",
     "exception": false,
     "start_time": "2020-08-21T10:29:41.251514",
     "status": "completed"
    },
    "tags": []
   },
   "outputs": [],
   "source": [
    "xgb = XGBRegressor(base_score=0.5, booster=None, colsample_bylevel=1, \n",
    "                    importance_type='gain', interaction_constraints=None,\n",
    "                     min_child_weight=1, missing=None, monotone_constraints=None,\n",
    "                     n_estimators=700, n_jobs=-1, nthread=-1, num_parallel_tree=1\n",
    "                    )\n",
    "xgb.fit(X, y)\n",
    "pred_1 = xgb.predict(x_test)\n",
    "pred_1[pred_1 < 0] = 1"
   ]
  },
  {
   "cell_type": "code",
   "execution_count": 21,
   "metadata": {
    "execution": {
     "iopub.execute_input": "2020-08-21T10:31:52.326252Z",
     "iopub.status.busy": "2020-08-21T10:31:52.325541Z",
     "iopub.status.idle": "2020-08-21T10:31:54.727146Z",
     "shell.execute_reply": "2020-08-21T10:31:54.726450Z"
    },
    "papermill": {
     "duration": 2.417086,
     "end_time": "2020-08-21T10:31:54.727297",
     "exception": false,
     "start_time": "2020-08-21T10:31:52.310211",
     "status": "completed"
    },
    "tags": []
   },
   "outputs": [],
   "source": [
    "import lightgbm as lgb\n",
    "model_lgb = lgb.LGBMRegressor(objective='regression',num_leaves=5,\n",
    "                              learning_rate=0.03, n_estimators=2200,\n",
    "                              max_bin = 55, bagging_fraction = 0.8,\n",
    "                              bagging_freq = 5, feature_fraction = 0.2319,\n",
    "                              feature_fraction_seed=9, bagging_seed=9,\n",
    "                              min_data_in_leaf =6, min_sum_hessian_in_leaf = 11)\n",
    "\n",
    "model_lgb.fit(X,y)\n",
    "pred_2 = model_lgb.predict(x_test)\n"
   ]
  },
  {
   "cell_type": "code",
   "execution_count": 22,
   "metadata": {
    "execution": {
     "iopub.execute_input": "2020-08-21T10:31:54.752033Z",
     "iopub.status.busy": "2020-08-21T10:31:54.751393Z",
     "iopub.status.idle": "2020-08-21T10:32:19.551987Z",
     "shell.execute_reply": "2020-08-21T10:32:19.552677Z"
    },
    "papermill": {
     "duration": 24.816322,
     "end_time": "2020-08-21T10:32:19.552961",
     "exception": false,
     "start_time": "2020-08-21T10:31:54.736639",
     "status": "completed"
    },
    "tags": []
   },
   "outputs": [],
   "source": [
    "from sklearn.ensemble import RandomForestRegressor,  GradientBoostingRegressor\n",
    "GBoost = GradientBoostingRegressor(n_estimators=3000, learning_rate=0.05,\n",
    "                                   max_depth=4, max_features='sqrt',\n",
    "                                   min_samples_leaf=15, min_samples_split=10, \n",
    "                                   loss='huber', random_state =5,)\n",
    "GBoost.fit(X, y)\n",
    "pred_4 = GBoost.predict(x_test)\n"
   ]
  },
  {
   "cell_type": "code",
   "execution_count": 23,
   "metadata": {
    "execution": {
     "iopub.execute_input": "2020-08-21T10:32:19.586601Z",
     "iopub.status.busy": "2020-08-21T10:32:19.585457Z",
     "iopub.status.idle": "2020-08-21T10:39:10.269763Z",
     "shell.execute_reply": "2020-08-21T10:39:10.269134Z"
    },
    "papermill": {
     "duration": 410.706377,
     "end_time": "2020-08-21T10:39:10.269925",
     "exception": false,
     "start_time": "2020-08-21T10:32:19.563548",
     "status": "completed"
    },
    "tags": []
   },
   "outputs": [],
   "source": [
    "#XGBOOST\n",
    "model=XGBRegressor(n_estimators=2200,learning_rate=0.05)\n",
    "model.fit(X,y)\n",
    "\n",
    "pred_6 = model.predict(x_test)\n"
   ]
  },
  {
   "cell_type": "code",
   "execution_count": 24,
   "metadata": {
    "execution": {
     "iopub.execute_input": "2020-08-21T10:39:10.295346Z",
     "iopub.status.busy": "2020-08-21T10:39:10.294371Z",
     "iopub.status.idle": "2020-08-21T10:39:10.297610Z",
     "shell.execute_reply": "2020-08-21T10:39:10.296875Z"
    },
    "papermill": {
     "duration": 0.017586,
     "end_time": "2020-08-21T10:39:10.297741",
     "exception": false,
     "start_time": "2020-08-21T10:39:10.280155",
     "status": "completed"
    },
    "tags": []
   },
   "outputs": [],
   "source": [
    "# pred_1 = 0.7*(pred_1 + pred_2)/2.0 + 0.3*(pred_5 + pred_4)/2.0"
   ]
  },
  {
   "cell_type": "code",
   "execution_count": 25,
   "metadata": {
    "execution": {
     "iopub.execute_input": "2020-08-21T10:39:10.322883Z",
     "iopub.status.busy": "2020-08-21T10:39:10.321950Z",
     "iopub.status.idle": "2020-08-21T10:39:10.326398Z",
     "shell.execute_reply": "2020-08-21T10:39:10.325802Z"
    },
    "papermill": {
     "duration": 0.018611,
     "end_time": "2020-08-21T10:39:10.326526",
     "exception": false,
     "start_time": "2020-08-21T10:39:10.307915",
     "status": "completed"
    },
    "tags": []
   },
   "outputs": [],
   "source": [
    "pred_1 = np.expm1(pred_1)\n",
    "pred_2 = np.expm1(pred_2)\n",
    "# pred_3 = np.expm1(pred_3)\n",
    "pred_4 = np.expm1(pred_4)\n",
    "# pred_5 = np.expm1(pred_5)\n",
    "pred_6 = np.expm1(pred_6)\n",
    "# pred_7 = np.expm1(pred_7)"
   ]
  },
  {
   "cell_type": "code",
   "execution_count": 26,
   "metadata": {
    "execution": {
     "iopub.execute_input": "2020-08-21T10:39:10.350660Z",
     "iopub.status.busy": "2020-08-21T10:39:10.349880Z",
     "iopub.status.idle": "2020-08-21T10:39:10.355023Z",
     "shell.execute_reply": "2020-08-21T10:39:10.353040Z"
    },
    "papermill": {
     "duration": 0.019145,
     "end_time": "2020-08-21T10:39:10.355152",
     "exception": false,
     "start_time": "2020-08-21T10:39:10.336007",
     "status": "completed"
    },
    "tags": []
   },
   "outputs": [],
   "source": [
    "pred_1 = (pred_1 + pred_6 + pred_2 + pred_4)/4.0"
   ]
  },
  {
   "cell_type": "code",
   "execution_count": 27,
   "metadata": {
    "execution": {
     "iopub.execute_input": "2020-08-21T10:39:10.381484Z",
     "iopub.status.busy": "2020-08-21T10:39:10.380738Z",
     "iopub.status.idle": "2020-08-21T10:39:10.451335Z",
     "shell.execute_reply": "2020-08-21T10:39:10.450556Z"
    },
    "papermill": {
     "duration": 0.086911,
     "end_time": "2020-08-21T10:39:10.451511",
     "exception": false,
     "start_time": "2020-08-21T10:39:10.364600",
     "status": "completed"
    },
    "tags": []
   },
   "outputs": [],
   "source": [
    "sub = pd.DataFrame({'Item_Id':test_df.Item_Id.values,\n",
    "                   'Low_Cap_Price':pred_1})\n",
    "sub.to_csv('submission_ensemble.csv', index=False)"
   ]
  },
  {
   "cell_type": "markdown",
   "execution_count": null,
   "metadata": {
    "papermill": {
     "duration": 0.010632,
     "end_time": "2020-08-21T10:39:10.472696",
     "exception": false,
     "start_time": "2020-08-21T10:39:10.462064",
     "status": "completed"
    },
    "tags": []
   },
   "source": [
    "# If you like my kernel, do Upvote :)"
   ]
  }
 ],
 "metadata": {
  "kernelspec": {
   "display_name": "Python 3",
   "language": "python",
   "name": "python3"
  },
  "language_info": {
   "codemirror_mode": {
    "name": "ipython",
    "version": 3
   },
   "file_extension": ".py",
   "mimetype": "text/x-python",
   "name": "python",
   "nbconvert_exporter": "python",
   "pygments_lexer": "ipython3",
   "version": "3.7.6"
  },
  "papermill": {
   "duration": 577.985492,
   "end_time": "2020-08-21T10:39:10.593117",
   "environment_variables": {},
   "exception": null,
   "input_path": "__notebook__.ipynb",
   "output_path": "__notebook__.ipynb",
   "parameters": {},
   "start_time": "2020-08-21T10:29:32.607625",
   "version": "2.1.0"
  }
 },
 "nbformat": 4,
 "nbformat_minor": 4
}
